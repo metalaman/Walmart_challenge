{
 "cells": [
  {
   "cell_type": "code",
   "execution_count": 1,
   "metadata": {
    "collapsed": true
   },
   "outputs": [],
   "source": [
    "from sklearn.preprocessing import MultiLabelBinarizer\n",
    "from ast import literal_eval\n",
    "import pandas as pd\n",
    "import numpy as np\n",
    "import re\n",
    "from bs4 import BeautifulSoup\n",
    "from nltk.stem.snowball import SnowballStemmer\n",
    "import gensim\n",
    "import scipy\n",
    "import nltk\n",
    "from sklearn.feature_extraction.text import TfidfVectorizer, CountVectorizer\n",
    "from sklearn.multiclass import OneVsRestClassifier\n",
    "from sklearn.svm import SVC"
   ]
  },
  {
   "cell_type": "code",
   "execution_count": 2,
   "metadata": {
    "collapsed": false
   },
   "outputs": [],
   "source": [
    "train = pd.read_csv('train.tsv',sep='\\t')\n",
    "test = pd.read_csv('test.tsv',sep='\\t')"
   ]
  },
  {
   "cell_type": "code",
   "execution_count": 3,
   "metadata": {
    "collapsed": false
   },
   "outputs": [],
   "source": [
    "train['Product Long Description'] = train['Product Long Description'].fillna('')\n",
    "train['Product Short Description'] = train['Product Short Description'].fillna('')\n",
    "train['Short Description'] = train['Short Description'].fillna('')\n",
    "train['Recommended Location'] = train['Recommended Location'].fillna('')\n",
    "train['Recommended Use'] = train['Recommended Use'].fillna('')\n",
    "\n",
    "test['Product Long Description'] = test['Product Long Description'].fillna('')\n",
    "test['Product Short Description'] = test['Product Short Description'].fillna('')\n",
    "test['Short Description'] = test['Short Description'].fillna('')\n",
    "test['Recommended Location'] = test['Recommended Location'].fillna('')\n",
    "test['Recommended Use'] = test['Recommended Use'].fillna('')"
   ]
  },
  {
   "cell_type": "code",
   "execution_count": 4,
   "metadata": {
    "collapsed": false
   },
   "outputs": [],
   "source": [
    "for i,row in train.iterrows():\n",
    "    if type(row['Product Name']) is not float:\n",
    "        complete_info = row['Product Name'] + ' ' + row['Short Description'] + ' ' + row['Product Short Description'] + ' ' + row['Product Long Description'] + ' ' + row['Recommended Location'] + ' ' + row['Recommended Use']\n",
    "        train.set_value(i,'Product_Info',complete_info)\n",
    "        \n",
    "for i,row in test.iterrows():\n",
    "    if type(row['Product Name']) is not float:\n",
    "        complete_info = row['Product Name'] + ' ' + row['Short Description'] + ' ' + row['Product Short Description'] + ' ' + row['Product Long Description'] + ' ' + row['Recommended Location'] + ' ' + row['Recommended Use']\n",
    "        test.set_value(i,'Product_Info',complete_info)"
   ]
  },
  {
   "cell_type": "code",
   "execution_count": 5,
   "metadata": {
    "collapsed": false
   },
   "outputs": [],
   "source": [
    "train.drop(['actual_color','item_id','Seller','Color',\n",
    "            'Product Long Description','Product Name','Product Short Description','Recommended Room',\n",
    "            'Short Description'], axis = 1, inplace=True)\n",
    "test.drop(['actual_color','Seller','Color',\n",
    "            'Product Long Description','Product Name','Product Short Description','Recommended Room',\n",
    "            'Short Description'], axis = 1, inplace=True)"
   ]
  },
  {
   "cell_type": "code",
   "execution_count": 6,
   "metadata": {
    "collapsed": false
   },
   "outputs": [],
   "source": [
    "train = train[~train.Product_Info.isnull()]"
   ]
  },
  {
   "cell_type": "code",
   "execution_count": 7,
   "metadata": {
    "collapsed": false
   },
   "outputs": [],
   "source": [
    "bad_input = []\n",
    "for i, row in test.iterrows():\n",
    "    if type(row.Product_Info) is float:\n",
    "        bad_input.append(row.item_id)"
   ]
  },
  {
   "cell_type": "code",
   "execution_count": 8,
   "metadata": {
    "collapsed": true
   },
   "outputs": [],
   "source": [
    "itemid_test = test.item_id"
   ]
  },
  {
   "cell_type": "code",
   "execution_count": 9,
   "metadata": {
    "collapsed": true
   },
   "outputs": [],
   "source": [
    "test.drop(['item_id'], axis = 1, inplace=True)"
   ]
  },
  {
   "cell_type": "code",
   "execution_count": 10,
   "metadata": {
    "collapsed": false
   },
   "outputs": [],
   "source": [
    "test = test[~test.Product_Info.isnull()]"
   ]
  },
  {
   "cell_type": "code",
   "execution_count": 11,
   "metadata": {
    "collapsed": false
   },
   "outputs": [],
   "source": [
    "mlb = MultiLabelBinarizer()\n",
    "train['tag'] = train.tag.apply(lambda x: [literal_eval(x)][0])\n",
    "Y_train = mlb.fit_transform(train.tag)"
   ]
  },
  {
   "cell_type": "code",
   "execution_count": 12,
   "metadata": {
    "collapsed": false
   },
   "outputs": [],
   "source": [
    "for i,row in train.iterrows():\n",
    "    train.set_value(i,'Product_Class','Other')\n",
    "    if type(row.Actors) is not float or type(row['MPAA Rating']) is not float or type(row['Aspect Ratio']) is not float:\n",
    "        train.set_value(i,'Product_Class','Movie')\n",
    "    elif type(row['ISBN']) is float and type(row['Synopsis']) is not float:\n",
    "        train.set_value(i,'Product_Class','Movie')\n",
    "    elif type(row['Actual Color']) is not float:\n",
    "        train.set_value(i,'Product_Class','Movie')\n",
    "    elif type(row['Artist ID']) is not float or type(row['Genre ID']) is not float:\n",
    "        train.set_value(i,'Product_Class','Music')\n",
    "    elif type(row['ISBN']) is float and type(row['Publisher']) is not float:\n",
    "        train.set_value(i,'Product_Class','VideoGame')\n",
    "    if type(row['ISBN']) is not float and type(row['Synopsis']) is not float:\n",
    "        train.set_value(i,'Product_Class','Book')\n",
    "    elif type(row['ISBN']) is not float or type(row['Literary Genre']) is not float:\n",
    "        train.set_value(i,'Product_Class','Book')\n",
    "        \n",
    "for i,row in test.iterrows():\n",
    "    test.set_value(i,'Product_Class','Other')\n",
    "    if type(row.Actors) is not float or type(row['MPAA Rating']) is not float or type(row['Aspect Ratio']) is not float:\n",
    "        test.set_value(i,'Product_Class','Movie')\n",
    "    elif type(row['ISBN']) is float and type(row['Synopsis']) is not float:\n",
    "        test.set_value(i,'Product_Class','Movie')\n",
    "    elif type(row['Actual Color']) is not float:\n",
    "        test.set_value(i,'Product_Class','Movie')\n",
    "    elif type(row['Artist ID']) is not float or type(row['Genre ID']) is not float:\n",
    "        test.set_value(i,'Product_Class','Music')\n",
    "    elif type(row['ISBN']) is float and type(row['Publisher']) is not float:\n",
    "        test.set_value(i,'Product_Class','VideoGame')\n",
    "    if type(row['ISBN']) is not float and type(row['Synopsis']) is not float:\n",
    "        test.set_value(i,'Product_Class','Book')\n",
    "    elif type(row['ISBN']) is not float or type(row['Literary Genre']) is not float:\n",
    "        test.set_value(i,'Product_Class','Book')"
   ]
  },
  {
   "cell_type": "code",
   "execution_count": 13,
   "metadata": {
    "collapsed": false
   },
   "outputs": [],
   "source": [
    "\n",
    "for i, row in train.iterrows():\n",
    "    if type(row.Actors) is not float:\n",
    "        train.set_value(i,'Actors',1)\n",
    "    else:\n",
    "        train.set_value(i,'Actors',0)\n",
    "    if type(row['MPAA Rating']) is not float:\n",
    "        train.set_value(i,'MPAA Rating',1)\n",
    "    else:\n",
    "        train.set_value(i,'MPAA Rating',0)\n",
    "    if type(row['Aspect Ratio']) is not float:\n",
    "        train.set_value(i,'Aspect Ratio',1)\n",
    "    else:\n",
    "        train.set_value(i,'Aspect Ratio',0)\n",
    "    if type(row.ISBN) is not float:\n",
    "        train.set_value(i,'ISBN',1)\n",
    "    else:\n",
    "        train.set_value(i,'ISBN',0)\n",
    "    if type(row.Synopsis) is not float:\n",
    "        train.set_value(i,'Synopsis',1)\n",
    "    else:\n",
    "        train.set_value(i,'Synopsis',0)\n",
    "    if type(row['Artist ID']) is not float:\n",
    "        train.set_value(i,'Artist ID',1)\n",
    "    else:\n",
    "        train.set_value(i,'Artist ID',0)\n",
    "    if type(row.Publisher) is not float:\n",
    "        train.set_value(i,'Publisher',1)\n",
    "    else:\n",
    "        train.set_value(i,'Publisher',0)\n",
    "    if type(row['Genre ID']) is not float:\n",
    "        train.set_value(i,'Genre ID',1)\n",
    "    else:\n",
    "        train.set_value(i,'Genre ID',0)\n",
    "    if type(row['Literary Genre']) is not float:\n",
    "        train.set_value(i,'Literary Genre',1)\n",
    "    else:\n",
    "        train.set_value(i,'Literary Genre',0)\n",
    "    if type(row['Actual Color']) is not float:\n",
    "        train.set_value(i,'Actual Color',1)\n",
    "    else:\n",
    "        train.set_value(i,'Actual Color',0)\n",
    "        \n",
    "for i, row in test.iterrows():\n",
    "    if type(row.Actors) is not float:\n",
    "        test.set_value(i,'Actors',1)\n",
    "    else:\n",
    "        test.set_value(i,'Actors',0)\n",
    "    if type(row['MPAA Rating']) is not float:\n",
    "        test.set_value(i,'MPAA Rating',1)\n",
    "    else:\n",
    "        test.set_value(i,'MPAA Rating',0)\n",
    "    if type(row['Aspect Ratio']) is not float:\n",
    "        test.set_value(i,'Aspect Ratio',1)\n",
    "    else:\n",
    "        test.set_value(i,'Aspect Ratio',0)\n",
    "    if type(row.ISBN) is not float:\n",
    "        test.set_value(i,'ISBN',1)\n",
    "    else:\n",
    "        test.set_value(i,'ISBN',0)\n",
    "    if type(row.Synopsis) is not float:\n",
    "        test.set_value(i,'Synopsis',1)\n",
    "    else:\n",
    "        test.set_value(i,'Synopsis',0)\n",
    "    if type(row['Artist ID']) is not float:\n",
    "        test.set_value(i,'Artist ID',1)\n",
    "    else:\n",
    "        test.set_value(i,'Artist ID',0)\n",
    "    if type(row.Publisher) is not float:\n",
    "        test.set_value(i,'Publisher',1)\n",
    "    else:\n",
    "        test.set_value(i,'Publisher',0)\n",
    "    if type(row['Genre ID']) is not float:\n",
    "        test.set_value(i,'Genre ID',1)\n",
    "    else:\n",
    "        test.set_value(i,'Genre ID',0)\n",
    "    if type(row['Literary Genre']) is not float:\n",
    "        test.set_value(i,'Literary Genre',1)\n",
    "    else:\n",
    "        test.set_value(i,'Literary Genre',0)\n",
    "    if type(row['Actual Color']) is not float:\n",
    "        test.set_value(i,'Actual Color',1)\n",
    "    else:\n",
    "        test.set_value(i,'Actual Color',0)"
   ]
  },
  {
   "cell_type": "code",
   "execution_count": 14,
   "metadata": {
    "collapsed": true
   },
   "outputs": [],
   "source": [
    "train.drop(['tag'], axis = 1, inplace=True)"
   ]
  },
  {
   "cell_type": "code",
   "execution_count": 15,
   "metadata": {
    "collapsed": true
   },
   "outputs": [],
   "source": [
    "train.drop(['Recommended Use'], axis = 1, inplace=True)\n",
    "test.drop(['Recommended Use'], axis = 1, inplace=True)"
   ]
  },
  {
   "cell_type": "code",
   "execution_count": 16,
   "metadata": {
    "collapsed": false
   },
   "outputs": [],
   "source": [
    "#train.drop(['Actors','MPAA Rating','Aspect Ratio','ISBN','Synopsis',\n",
    "#            'Artist ID','Publisher','Genre ID','Literary Genre','tag'], axis = 1, inplace=True)\n",
    "#test.drop(['Actors','MPAA Rating','Aspect Ratio','ISBN','Synopsis',\n",
    "#            'Artist ID','Publisher','Genre ID','Literary Genre'], axis = 1, inplace=True)"
   ]
  },
  {
   "cell_type": "code",
   "execution_count": 17,
   "metadata": {
    "collapsed": true
   },
   "outputs": [],
   "source": [
    "for i, row in train.iterrows():\n",
    "    if row.Product_Class in ['Movie','Book','VideoGame']:\n",
    "        train.set_value(i,'Recommended Location',1)\n",
    "    else:\n",
    "        train.set_value(i,'Recommended Location',0)\n",
    "for i, row in test.iterrows():\n",
    "    if row.Product_Class in ['Movie','Book','VideoGame']:\n",
    "        test.set_value(i,'Recommended Location',1)\n",
    "    else:\n",
    "        test.set_value(i,'Recommended Location',0)"
   ]
  },
  {
   "cell_type": "code",
   "execution_count": 18,
   "metadata": {
    "collapsed": false
   },
   "outputs": [],
   "source": [
    "for i, row in train.iterrows():\n",
    "    soup = BeautifulSoup(row.Product_Info, 'html.parser')\n",
    "    train.set_value(i,'Product_Info',soup.get_text(separator=' '))\n",
    "\n",
    "for i, row in test.iterrows():\n",
    "    soup = BeautifulSoup(row.Product_Info, 'html.parser')\n",
    "    test.set_value(i,'Product_Info',soup.get_text(separator=' '))"
   ]
  },
  {
   "cell_type": "code",
   "execution_count": 19,
   "metadata": {
    "collapsed": false
   },
   "outputs": [],
   "source": [
    "train['Product_Info'] = train['Product_Info'].str.lower()\n",
    "train.Product_Info = train.Product_Info.str.replace(r'[0-9]',' ')\n",
    "train.Product_Info = train.Product_Info.str.replace(r'https?.*?(\\s|\\n)',' ')\n",
    "train.Product_Info = train.Product_Info.str.replace(r'[\\w\\.-]+@[\\w\\.-]+',' ')\n",
    "train.Product_Info = train.Product_Info.str.replace(r'\\.|\\-|\\+|\\\\|\\/|\\;|\\:|\\!|\\_|\\@|\\#|\\$|\\%|\\^|\\&|\\*|\\(|\\)|\\{|\\}|\\[|\\]|\\||\\<|\\>|\\\"|\\'|\\,|\\?',' ')\n",
    "train.Product_Info = train.Product_Info.str.replace(r'\\s[a-zA-Z]{2}\\s|\\s[a-zA-Z]{1}\\s',' ')\n",
    "\n",
    "test['Product_Info'] = test['Product_Info'].str.lower()\n",
    "test.Product_Info = test.Product_Info.str.replace(r'[0-9]',' ')\n",
    "test.Product_Info = test.Product_Info.str.replace(r'https?.*?(\\s|\\n)',' ')\n",
    "test.Product_Info = test.Product_Info.str.replace(r'[\\w\\.-]+@[\\w\\.-]+',' ')\n",
    "test.Product_Info = test.Product_Info.str.replace(r'\\.|\\-|\\+|\\\\|\\/|\\;|\\:|\\!|\\_|\\@|\\#|\\$|\\%|\\^|\\&|\\*|\\(|\\)|\\{|\\}|\\[|\\]|\\||\\<|\\>|\\\"|\\'|\\,|\\?',' ')\n",
    "test.Product_Info = test.Product_Info.str.replace(r'\\s[a-zA-Z]{2}\\s|\\s[a-zA-Z]{1}\\s',' ')"
   ]
  },
  {
   "cell_type": "code",
   "execution_count": 20,
   "metadata": {
    "collapsed": false
   },
   "outputs": [],
   "source": [
    "stopwords = nltk.corpus.stopwords.words('english')\n",
    "stemmer = SnowballStemmer(\"english\")"
   ]
  },
  {
   "cell_type": "code",
   "execution_count": 21,
   "metadata": {
    "collapsed": false
   },
   "outputs": [],
   "source": [
    "for i, row in train.iterrows():\n",
    "    text = row.Product_Info.split()\n",
    "    text = [word for word in text if word not in stopwords]\n",
    "    #text = [stemmer.stem(t) for t in text]\n",
    "    train.set_value(i,'Product_Info',' '.join(text))\n",
    "\n",
    "for i, row in test.iterrows():\n",
    "    text = row.Product_Info.split()\n",
    "    text = [word for word in text if word not in stopwords]\n",
    "    #text = [stemmer.stem(t) for t in text]\n",
    "    test.set_value(i,'Product_Info',' '.join(text))"
   ]
  },
  {
   "cell_type": "code",
   "execution_count": 22,
   "metadata": {
    "collapsed": true
   },
   "outputs": [],
   "source": [
    "#train.Product_Info = train.Product_Info.str.replace(r'\\s[a-zA-Z]{2}\\s|\\s[a-zA-Z]{1}\\s',' ')\n",
    "#test.Product_Info = test.Product_Info.str.replace(r'\\s[a-zA-Z]{2}\\s|\\s[a-zA-Z]{1}\\s',' ')"
   ]
  },
  {
   "cell_type": "code",
   "execution_count": 23,
   "metadata": {
    "collapsed": false
   },
   "outputs": [],
   "source": [
    "tfidf_vectorizer = TfidfVectorizer(max_df=0.9, min_df=0, ngram_range= (1,2), max_features = 50000)"
   ]
  },
  {
   "cell_type": "code",
   "execution_count": 24,
   "metadata": {
    "collapsed": false
   },
   "outputs": [],
   "source": [
    "tfidf = tfidf_vectorizer.fit_transform(train.Product_Info)\n",
    "tfidf_test = tfidf_vectorizer.transform(test.Product_Info)"
   ]
  },
  {
   "cell_type": "code",
   "execution_count": 25,
   "metadata": {
    "collapsed": false
   },
   "outputs": [],
   "source": [
    "dftr = pd.get_dummies(train[['Product_Class','Item Class ID']])\n",
    "dfte = pd.get_dummies(test[['Product_Class','Item Class ID']])\n",
    "dfte = dfte.reindex(columns = dftr.columns, fill_value=0)"
   ]
  },
  {
   "cell_type": "code",
   "execution_count": 26,
   "metadata": {
    "collapsed": false
   },
   "outputs": [],
   "source": [
    "train.drop(['Product_Class','Item Class ID','Product_Info'], axis = 1, inplace=True)\n",
    "test.drop(['Product_Class','Item Class ID','Product_Info'], axis = 1, inplace=True)\n",
    "#train.drop(['Product_Class','Item Class ID'], axis = 1, inplace=True)\n",
    "#test.drop(['Product_Class','Item Class ID'], axis = 1, inplace=True)"
   ]
  },
  {
   "cell_type": "code",
   "execution_count": 27,
   "metadata": {
    "collapsed": false,
    "scrolled": true
   },
   "outputs": [],
   "source": [
    "train = train.apply(lambda x: pd.to_numeric(x))\n",
    "test = test.apply(lambda x: pd.to_numeric(x))"
   ]
  },
  {
   "cell_type": "code",
   "execution_count": 28,
   "metadata": {
    "collapsed": false
   },
   "outputs": [],
   "source": [
    "dftr = scipy.sparse.csr_matrix(dftr.values)\n",
    "dfte = scipy.sparse.csr_matrix(dfte.values)\n",
    "train = scipy.sparse.csr_matrix(train.values)\n",
    "test = scipy.sparse.csr_matrix(test.values)"
   ]
  },
  {
   "cell_type": "code",
   "execution_count": 29,
   "metadata": {
    "collapsed": true
   },
   "outputs": [],
   "source": [
    "X = scipy.sparse.hstack([tfidf, dftr,train])\n",
    "X_te = scipy.sparse.hstack([tfidf_test, dfte,test])"
   ]
  },
  {
   "cell_type": "code",
   "execution_count": 30,
   "metadata": {
    "collapsed": false
   },
   "outputs": [
    {
     "data": {
      "text/plain": [
       "<10584x50039 sparse matrix of type '<type 'numpy.float64'>'\n",
       "\twith 1159835 stored elements in COOrdinate format>"
      ]
     },
     "execution_count": 30,
     "metadata": {},
     "output_type": "execute_result"
    }
   ],
   "source": [
    "X"
   ]
  },
  {
   "cell_type": "code",
   "execution_count": 31,
   "metadata": {
    "collapsed": false
   },
   "outputs": [
    {
     "data": {
      "text/plain": [
       "OneVsRestClassifier(estimator=SVC(C=1.0, cache_size=200, class_weight=None, coef0=0.0,\n",
       "  decision_function_shape=None, degree=3, gamma='auto', kernel='linear',\n",
       "  max_iter=-1, probability=False, random_state=None, shrinking=True,\n",
       "  tol=0.001, verbose=False),\n",
       "          n_jobs=1)"
      ]
     },
     "execution_count": 31,
     "metadata": {},
     "output_type": "execute_result"
    }
   ],
   "source": [
    "classif = OneVsRestClassifier(SVC(kernel='linear'))\n",
    "classif.fit(X, Y_train)"
   ]
  },
  {
   "cell_type": "code",
   "execution_count": 32,
   "metadata": {
    "collapsed": false
   },
   "outputs": [],
   "source": [
    "out = classif.predict(X_te)"
   ]
  },
  {
   "cell_type": "code",
   "execution_count": 33,
   "metadata": {
    "collapsed": true
   },
   "outputs": [],
   "source": [
    "mlbout = mlb.inverse_transform(out)"
   ]
  },
  {
   "cell_type": "code",
   "execution_count": 34,
   "metadata": {
    "collapsed": false
   },
   "outputs": [
    {
     "data": {
      "text/plain": [
       "[12928L, 14691L, 16725L, 18767L, 20014L, 20802L]"
      ]
     },
     "execution_count": 34,
     "metadata": {},
     "output_type": "execute_result"
    }
   ],
   "source": [
    "bad_input"
   ]
  },
  {
   "cell_type": "code",
   "execution_count": 35,
   "metadata": {
    "collapsed": false
   },
   "outputs": [],
   "source": [
    "final = []\n",
    "k = 0\n",
    "for i in range(len(itemid_test)):  \n",
    "    if itemid_test[i] in bad_input:\n",
    "        final.append(tuple([itemid_test[i],list()]))\n",
    "        k = k+1\n",
    "    else:\n",
    "        final.append(tuple([itemid_test[i],list(mlbout[i-k])]))"
   ]
  },
  {
   "cell_type": "code",
   "execution_count": 36,
   "metadata": {
    "collapsed": true
   },
   "outputs": [],
   "source": [
    "output = pd.DataFrame(final,columns=['item_id','tag'])"
   ]
  },
  {
   "cell_type": "code",
   "execution_count": 37,
   "metadata": {
    "collapsed": false
   },
   "outputs": [],
   "source": [
    "output.to_csv('tags.tsv',sep='\\t',index=False)"
   ]
  },
  {
   "cell_type": "code",
   "execution_count": null,
   "metadata": {
    "collapsed": true
   },
   "outputs": [],
   "source": []
  },
  {
   "cell_type": "code",
   "execution_count": null,
   "metadata": {
    "collapsed": true
   },
   "outputs": [],
   "source": []
  },
  {
   "cell_type": "code",
   "execution_count": null,
   "metadata": {
    "collapsed": true
   },
   "outputs": [],
   "source": []
  },
  {
   "cell_type": "code",
   "execution_count": null,
   "metadata": {
    "collapsed": true
   },
   "outputs": [],
   "source": []
  },
  {
   "cell_type": "code",
   "execution_count": null,
   "metadata": {
    "collapsed": true
   },
   "outputs": [],
   "source": []
  },
  {
   "cell_type": "code",
   "execution_count": null,
   "metadata": {
    "collapsed": false
   },
   "outputs": [],
   "source": [
    "#set(test['Item Class ID']).difference(set(train['Item Class ID']))"
   ]
  },
  {
   "cell_type": "code",
   "execution_count": null,
   "metadata": {
    "collapsed": true
   },
   "outputs": [],
   "source": [
    "#train[train['Item Class ID'].isnull() & ~train['Product Name'].isnull()]"
   ]
  },
  {
   "cell_type": "code",
   "execution_count": null,
   "metadata": {
    "collapsed": false
   },
   "outputs": [],
   "source": [
    "#for i,row in train[train['Item Class ID'].isnull() & ~train['Product Name'].isnull() & ~train['ISBN'].isnull()].iterrows():\n",
    "#    train[train['Item Class ID'].isnull() & ~train['Product Name'].isnull() & ~train['ISBN'].isnull()].set_value(i,'Item Class ID',3)"
   ]
  },
  {
   "cell_type": "code",
   "execution_count": null,
   "metadata": {
    "collapsed": false
   },
   "outputs": [],
   "source": [
    "#train[train['Item Class ID'].isnull() & ~train['Product Name'].isnull() & ~train['ISBN'].isnull()]"
   ]
  },
  {
   "cell_type": "code",
   "execution_count": null,
   "metadata": {
    "collapsed": false
   },
   "outputs": [],
   "source": [
    "#train[~train['ISBN'].isnull()]['Item Class ID'].value_counts()"
   ]
  },
  {
   "cell_type": "code",
   "execution_count": null,
   "metadata": {
    "collapsed": true
   },
   "outputs": [],
   "source": []
  }
 ],
 "metadata": {
  "anaconda-cloud": {},
  "kernelspec": {
   "display_name": "Python [default]",
   "language": "python",
   "name": "python2"
  },
  "language_info": {
   "codemirror_mode": {
    "name": "ipython",
    "version": 2
   },
   "file_extension": ".py",
   "mimetype": "text/x-python",
   "name": "python",
   "nbconvert_exporter": "python",
   "pygments_lexer": "ipython2",
   "version": "2.7.12"
  }
 },
 "nbformat": 4,
 "nbformat_minor": 0
}
